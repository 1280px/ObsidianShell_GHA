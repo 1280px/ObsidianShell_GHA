{
 "cells": [
  {
   "cell_type": "markdown",
   "metadata": {},
   "source": [
    "## Right to difference (unfinished)"
   ]
  },
  {
   "cell_type": "code",
   "execution_count": 3,
   "metadata": {},
   "outputs": [],
   "source": [
    "def all_endwith(paths, suffix):\n",
    "    for path in paths:\n",
    "        if not path.endswith(suffix):\n",
    "            return False\n",
    "    return True\n",
    "\n",
    "def path_prefixed(paths):\n",
    "    first_path = paths[0].split('\\\\')\n",
    "\n",
    "    for i in reversed(range(len(first_path))):\n",
    "        if not all_endwith(paths, '\\\\' + '\\\\'.join(first_path[i:])):\n",
    "            prefixes = []\n",
    "            for path in paths:\n",
    "                path = path[:-len('\\\\' + '\\\\'.join(first_path[i+1:]))]\n",
    "                path = path[path.rfind('\\\\')+1:]\n",
    "                if i != len(first_path) - 2:\n",
    "                    path += '\\\\...'\n",
    "                prefixes.append(path + '\\\\' + first_path[-1])\n",
    "            print(prefixes)\n",
    "            return prefixes"
   ]
  },
  {
   "cell_type": "code",
   "execution_count": 4,
   "metadata": {},
   "outputs": [
    {
     "name": "stdout",
     "output_type": "stream",
     "text": [
      "/d\n",
      "/c/d\n",
      "/b/c/d\n",
      "a/b/c/d\n"
     ]
    }
   ],
   "source": [
    "s = 'a/b/c/d'\n",
    "i = len(s)\n",
    "while True:\n",
    "    i = s.rfind('/', 0, i)\n",
    "    if i == -1:\n",
    "        print(s)\n",
    "        break\n",
    "    print(s[i:])"
   ]
  },
  {
   "cell_type": "code",
   "execution_count": 5,
   "metadata": {},
   "outputs": [],
   "source": [
    "def path_prefixed(paths):\n",
    "    def make_prefixed():\n",
    "        prefixed = []\n",
    "        for path in paths:\n",
    "            path = path[:-len(first_path[last_i:])]\n",
    "            path = path[path.rfind('\\\\')+1:]\n",
    "            if last_i != first_i:\n",
    "                path += '\\\\...'\n",
    "            prefixed.append(path + first_path[first_i:])\n",
    "        print(prefixed)\n",
    "        return prefixed\n",
    "    \n",
    "    first_path = paths[0]\n",
    "    first_i = first_path.rfind('\\\\')\n",
    "    i = first_i\n",
    "    while True:\n",
    "        last_i = i\n",
    "        i = first_path.rfind('\\\\', 0, last_i)\n",
    "        if i == -1:\n",
    "            return make_prefixed()\n",
    "\n",
    "        if not all_endwith(paths, first_path[i:]):\n",
    "            return make_prefixed()"
   ]
  },
  {
   "cell_type": "code",
   "execution_count": 8,
   "metadata": {},
   "outputs": [
    {
     "name": "stdout",
     "output_type": "stream",
     "text": [
      "['Alice\\\\...\\\\test', 'Bob\\\\...\\\\test', 'Chaos\\\\...\\\\test']\n",
      "['Alice\\\\test', 'Bob\\\\test', 'Chaos\\\\test']\n",
      "['C:\\\\...\\\\test', 'D:\\\\...\\\\test', 'E:\\\\...\\\\test']\n",
      "['C:\\\\test', 'D:\\\\test', 'E:\\\\test']\n",
      "['C:\\\\test', 'Desktop\\\\test']\n"
     ]
    },
    {
     "data": {
      "text/plain": [
       "\"\\nassert (path_prefixed(\\n    [r'C:\\\\test', r'C:\\\\Users\\\\Alice\\\\Desktop\\\\test', r'C:\\\\Users\\\\Bob\\\\Desktop\\\\test']) ==\\n    [r'C:\\\\test', r'Alice\\\\...\\\\test', r'Bob\\\\...\\\\test'])\\n\""
      ]
     },
     "execution_count": 8,
     "metadata": {},
     "output_type": "execute_result"
    }
   ],
   "source": [
    "assert (path_prefixed(\n",
    "    [r'C:\\Users\\Alice\\Desktop\\test', r'C:\\Users\\Bob\\Desktop\\test', r'C:\\Users\\Chaos\\Desktop\\test']) ==\n",
    "    [r'Alice\\...\\test', r'Bob\\...\\test', r'Chaos\\...\\test'])\n",
    "assert (path_prefixed(\n",
    "    [r'C:\\Users\\Alice\\test', r'C:\\Users\\Bob\\test', r'C:\\Users\\Chaos\\test']) ==\n",
    "    [r'Alice\\test', r'Bob\\test', r'Chaos\\test'])\n",
    "assert (path_prefixed(\n",
    "    [r'C:\\Users\\Alice\\Desktop\\test', r'D:\\Users\\Alice\\Desktop\\test', r'E:\\Users\\Alice\\Desktop\\test']) ==\n",
    "    [r'C:\\...\\test', r'D:\\...\\test', r'E:\\...\\test'])\n",
    "assert (path_prefixed(\n",
    "    [r'C:\\test', r'D:\\test', r'E:\\test']) ==\n",
    "    [r'C:\\test', r'D:\\test', r'E:\\test'])\n",
    "\n",
    "prefixes = path_prefixed(\n",
    "    [r'C:\\test', r'C:\\Users\\Alice\\Desktop\\test'])\n",
    "assert (prefixes ==\n",
    "    [r'C:\\test', r'Desktop\\test'] or prefixes ==\n",
    "    [r'C:\\test', r'Users\\...\\test'])\n",
    "\n",
    "r'''\n",
    "assert (path_prefixed(\n",
    "    [r'C:\\test', r'C:\\Users\\Alice\\Desktop\\test', r'C:\\Users\\Bob\\Desktop\\test']) ==\n",
    "    [r'C:\\test', r'Alice\\...\\test', r'Bob\\...\\test'])\n",
    "'''"
   ]
  },
  {
   "cell_type": "markdown",
   "metadata": {},
   "source": [
    "## Left to difference"
   ]
  },
  {
   "cell_type": "code",
   "execution_count": 48,
   "metadata": {},
   "outputs": [],
   "source": [
    "def all_startwith(paths, prefix):\n",
    "    for path in paths:\n",
    "        if not path.startswith(prefix):\n",
    "            return False\n",
    "    return True\n",
    "\n",
    "def common_prefix_of(paths):\n",
    "    prefix = paths[0]\n",
    "    prefix = prefix[:prefix.rfind('\\\\')]\n",
    "    while not all_startwith(paths, prefix + '\\\\'):\n",
    "        pos = prefix.rfind('\\\\')\n",
    "        if pos == -1:\n",
    "            return ''\n",
    "        prefix = prefix[:pos]\n",
    "        #print(paths[0], prefix)\n",
    "    return prefix + '\\\\'"
   ]
  },
  {
   "cell_type": "code",
   "execution_count": 36,
   "metadata": {},
   "outputs": [
    {
     "name": "stdout",
     "output_type": "stream",
     "text": [
      "C:\\Users\\Alice\\Desktop\\test C:\\Users\\Alice\n",
      "C:\\Users\\Alice\\Desktop\\test C:\\Users\n"
     ]
    }
   ],
   "source": [
    "assert (common_prefix_of(\n",
    "    [r'C:\\Users\\Alice\\Desktop\\test', r'C:\\Users\\Bob\\Desktop\\test', r'C:\\Users\\Chaos\\Desktop\\test']) ==\n",
    "    r'C:\\Users'+'\\\\')\n",
    "assert (common_prefix_of(\n",
    "    [r'C:'+'\\\\', r'D:'+'\\\\']) ==\n",
    "    '')"
   ]
  },
  {
   "cell_type": "markdown",
   "metadata": {},
   "source": [
    "## Left & Right to difference"
   ]
  },
  {
   "cell_type": "code",
   "execution_count": 49,
   "metadata": {},
   "outputs": [],
   "source": [
    "def common_suffix_of(paths):\n",
    "    suffix = paths[0]\n",
    "    suffix = suffix[suffix.find('\\\\')+1:]\n",
    "    while not all_endwith(paths, '\\\\' + suffix):\n",
    "        pos = suffix.find('\\\\')\n",
    "        if pos == -1:\n",
    "            return ''\n",
    "        suffix = suffix[pos+1:]\n",
    "        #print(paths[0], suffix)\n",
    "    return '\\\\' + suffix"
   ]
  },
  {
   "cell_type": "code",
   "execution_count": 43,
   "metadata": {},
   "outputs": [
    {
     "name": "stdout",
     "output_type": "stream",
     "text": [
      "C:\\Users\\Alice\\Desktop\\test Alice\\Desktop\\test\n",
      "C:\\Users\\Alice\\Desktop\\test Desktop\\test\n"
     ]
    }
   ],
   "source": [
    "assert (common_suffix_of(\n",
    "    [r'C:\\Users\\Alice\\Desktop\\test', r'C:\\Users\\Bob\\Desktop\\test', r'C:\\Users\\Chaos\\Desktop\\test']) ==\n",
    "    r'\\Desktop\\test')\n",
    "assert (common_suffix_of(\n",
    "    [r'C:'+'\\\\', r'D:'+'\\\\']) ==\n",
    "    '\\\\')"
   ]
  },
  {
   "cell_type": "code",
   "execution_count": 66,
   "metadata": {},
   "outputs": [],
   "source": [
    "def path_prefixed(paths):\n",
    "    name = paths[0][paths[0].rfind('\\\\')+1:]\n",
    "    prefix = common_prefix_of(paths)\n",
    "    suffix = common_suffix_of(paths)\n",
    "    trival_suffix = suffix == f'\\\\{name}'\n",
    "\n",
    "    prefixed = []\n",
    "    for path in paths:\n",
    "        #p = path[len(prefix):len(path) - len(suffix)]\n",
    "        p = path[len(prefix):-len(suffix)]\n",
    "        if p != '':\n",
    "            if not trival_suffix:\n",
    "                p += '\\\\...'\n",
    "            p += '\\\\'\n",
    "        prefixed.append(p + name)\n",
    "    print(prefixed)\n",
    "    return prefixed"
   ]
  },
  {
   "cell_type": "code",
   "execution_count": 67,
   "metadata": {},
   "outputs": [
    {
     "name": "stdout",
     "output_type": "stream",
     "text": [
      "['Alice\\\\...\\\\test', 'Bob\\\\...\\\\test', 'Chaos\\\\...\\\\test']\n",
      "['Alice\\\\test', 'Bob\\\\test', 'Chaos\\\\test']\n",
      "['C:\\\\...\\\\test', 'D:\\\\...\\\\test', 'E:\\\\...\\\\test']\n",
      "['C:\\\\test', 'D:\\\\test', 'E:\\\\test']\n",
      "['test', 'Users\\\\Alice\\\\Desktop\\\\test']\n",
      "['test', 'Users\\\\Alice\\\\Desktop\\\\test', 'Users\\\\Bob\\\\Desktop\\\\test']\n"
     ]
    }
   ],
   "source": [
    "assert (path_prefixed(\n",
    "    [r'C:\\Users\\Alice\\Desktop\\test', r'C:\\Users\\Bob\\Desktop\\test', r'C:\\Users\\Chaos\\Desktop\\test']) ==\n",
    "    [r'Alice\\...\\test', r'Bob\\...\\test', r'Chaos\\...\\test'])\n",
    "assert (path_prefixed(\n",
    "    [r'C:\\Users\\Alice\\test', r'C:\\Users\\Bob\\test', r'C:\\Users\\Chaos\\test']) ==\n",
    "    [r'Alice\\test', r'Bob\\test', r'Chaos\\test'])\n",
    "assert (path_prefixed(\n",
    "    [r'C:\\Users\\Alice\\Desktop\\test', r'D:\\Users\\Alice\\Desktop\\test', r'E:\\Users\\Alice\\Desktop\\test']) ==\n",
    "    [r'C:\\...\\test', r'D:\\...\\test', r'E:\\...\\test'])\n",
    "assert (path_prefixed(\n",
    "    [r'C:\\test', r'D:\\test', r'E:\\test']) ==\n",
    "    [r'C:\\test', r'D:\\test', r'E:\\test'])\n",
    "\n",
    "assert (path_prefixed(\n",
    "    [r'C:\\test', r'C:\\Users\\Alice\\Desktop\\test']) ==\n",
    "    [r'test', r'Users\\Alice\\Desktop\\test'])\n",
    "\n",
    "assert (path_prefixed(\n",
    "    [r'C:\\test', r'C:\\Users\\Alice\\Desktop\\test', r'C:\\Users\\Bob\\Desktop\\test']) ==\n",
    "    [r'test', r'Users\\Alice\\Desktop\\test', r'Users\\Bob\\Desktop\\test'])"
   ]
  }
 ],
 "metadata": {
  "interpreter": {
   "hash": "19d1d53a962d236aa061289c2ac16dc8e6d9648c89fe79f459ae9a3493bc67b4"
  },
  "kernelspec": {
   "display_name": "Python 3.9.1 ('base')",
   "language": "python",
   "name": "python3"
  },
  "language_info": {
   "codemirror_mode": {
    "name": "ipython",
    "version": 3
   },
   "file_extension": ".py",
   "mimetype": "text/x-python",
   "name": "python",
   "nbconvert_exporter": "python",
   "pygments_lexer": "ipython3",
   "version": "3.9.1"
  },
  "orig_nbformat": 4
 },
 "nbformat": 4,
 "nbformat_minor": 2
}
